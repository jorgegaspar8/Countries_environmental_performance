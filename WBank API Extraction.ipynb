{
 "cells": [
  {
   "cell_type": "code",
   "execution_count": 1,
   "id": "b6a96bf7",
   "metadata": {},
   "outputs": [],
   "source": [
    "import requests\n",
    "import pandas as pd\n",
    "\n",
    "\n",
    "url = 'http://api.worldbank.org/v2/country/%s/indicator/NY.GDP.PCAP.CD?format=json'\n",
    "countries = [\"DZA\",\"AGO\",\"ARG\",\"AUS\",\"AUT\",\"BEL\",\"BRA\",\"CAN\",\"CHL\",\"CHN\",\"COL\",\"CYP\", \"CZE\",\"DNK\",\"FIN\",\"FRA\",\"GEO\",\"DEU\",\n",
    "          \"GRC\",\"HUN\",\"ISL\",\"IND\",\"IDN\",\"IRL\",\"ISR\",\"ITA\",\"JPN\",\"KAZ\",\"KWT\",\"LBN\",\"LIE\",\"MYS\",\"MEX\",\"MCO\",\"MAR\",\"NPL\",\"NLD\",\n",
    "          \"NZL\",\"NGA\",\"NOR\",\"OMN\",\"PER\",\"PHL\",\"POL\",\"PRT\",\"QAT\",\"ROU\",\"SGP\",\"ZAF\",\"ESP\",\"SWE\",\"CHE\",\"TZA\",\"THA\",\"TUR\",\"UKR\",\n",
    "          \"GBR\",\"USA\",\"VNM\",\"ZWE\"]\n",
    "    \n",
    "my_values = []\n",
    "for country in countries:\n",
    "    data = requests.get(url %country).json()\n",
    "    for d in data[1]:\n",
    "        my_values.append({\n",
    "            'country':d['country']['value'],\n",
    "            'date':d['date'],\n",
    "            'value':d['value']\n",
    "            })\n",
    "\n",
    "df = pd.DataFrame(my_values).sort_values(['country', 'date'], ascending=True)\n"
   ]
  },
  {
   "cell_type": "code",
   "execution_count": 2,
   "id": "00c32a22",
   "metadata": {},
   "outputs": [
    {
     "data": {
      "text/html": [
       "<div>\n",
       "<style scoped>\n",
       "    .dataframe tbody tr th:only-of-type {\n",
       "        vertical-align: middle;\n",
       "    }\n",
       "\n",
       "    .dataframe tbody tr th {\n",
       "        vertical-align: top;\n",
       "    }\n",
       "\n",
       "    .dataframe thead th {\n",
       "        text-align: right;\n",
       "    }\n",
       "</style>\n",
       "<table border=\"1\" class=\"dataframe\">\n",
       "  <thead>\n",
       "    <tr style=\"text-align: right;\">\n",
       "      <th></th>\n",
       "      <th>country</th>\n",
       "      <th>date</th>\n",
       "      <th>value</th>\n",
       "    </tr>\n",
       "  </thead>\n",
       "  <tbody>\n",
       "    <tr>\n",
       "      <th>49</th>\n",
       "      <td>Algeria</td>\n",
       "      <td>1972</td>\n",
       "      <td>442.677623</td>\n",
       "    </tr>\n",
       "    <tr>\n",
       "      <th>48</th>\n",
       "      <td>Algeria</td>\n",
       "      <td>1973</td>\n",
       "      <td>554.292909</td>\n",
       "    </tr>\n",
       "    <tr>\n",
       "      <th>47</th>\n",
       "      <td>Algeria</td>\n",
       "      <td>1974</td>\n",
       "      <td>818.008229</td>\n",
       "    </tr>\n",
       "    <tr>\n",
       "      <th>46</th>\n",
       "      <td>Algeria</td>\n",
       "      <td>1975</td>\n",
       "      <td>936.790082</td>\n",
       "    </tr>\n",
       "    <tr>\n",
       "      <th>45</th>\n",
       "      <td>Algeria</td>\n",
       "      <td>1976</td>\n",
       "      <td>1037.607160</td>\n",
       "    </tr>\n",
       "  </tbody>\n",
       "</table>\n",
       "</div>"
      ],
      "text/plain": [
       "    country  date        value\n",
       "49  Algeria  1972   442.677623\n",
       "48  Algeria  1973   554.292909\n",
       "47  Algeria  1974   818.008229\n",
       "46  Algeria  1975   936.790082\n",
       "45  Algeria  1976  1037.607160"
      ]
     },
     "execution_count": 2,
     "metadata": {},
     "output_type": "execute_result"
    }
   ],
   "source": [
    "df.head()"
   ]
  },
  {
   "cell_type": "code",
   "execution_count": 3,
   "id": "40367948",
   "metadata": {},
   "outputs": [],
   "source": [
    "df.to_csv('../data/raw/GDP.csv')"
   ]
  }
 ],
 "metadata": {
  "kernelspec": {
   "display_name": "Python 3 (ipykernel)",
   "language": "python",
   "name": "python3"
  },
  "language_info": {
   "codemirror_mode": {
    "name": "ipython",
    "version": 3
   },
   "file_extension": ".py",
   "mimetype": "text/x-python",
   "name": "python",
   "nbconvert_exporter": "python",
   "pygments_lexer": "ipython3",
   "version": "3.9.13"
  }
 },
 "nbformat": 4,
 "nbformat_minor": 5
}
